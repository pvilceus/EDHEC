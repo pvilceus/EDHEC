{
 "cells": [
  {
   "cell_type": "code",
   "execution_count": 51,
   "id": "7a6b7240-6af7-4739-9b53-9efc45313a71",
   "metadata": {},
   "outputs": [
    {
     "name": "stdout",
     "output_type": "stream",
     "text": [
      "The autoreload extension is already loaded. To reload it, use:\n",
      "  %reload_ext autoreload\n"
     ]
    }
   ],
   "source": [
    "import pandas as pd\n",
    "import numpy as np\n",
    "import edhec_risk_kit as erk\n",
    "np.set_printoptions(suppress=True)\n",
    "\n",
    "\n",
    "%load_ext autoreload\n",
    "%autoreload 2"
   ]
  },
  {
   "cell_type": "code",
   "execution_count": 24,
   "id": "5333e5bb-19b7-4653-8303-d0e0959f97b8",
   "metadata": {},
   "outputs": [],
   "source": [
    "hfi = erk.get_hfi_returns()\n",
    "hfi = hfi['2000':]"
   ]
  },
  {
   "cell_type": "code",
   "execution_count": 26,
   "id": "569452e8-d16b-41a1-a244-7acacf14472f",
   "metadata": {},
   "outputs": [
    {
     "data": {
      "text/plain": [
       "Convertible Arbitrage      3.484471\n",
       "CTA Global                 5.033613\n",
       "Distressed Securities      3.143018\n",
       "Emerging Markets           5.807041\n",
       "Equity Market Neutral      1.477190\n",
       "Event Driven               3.085309\n",
       "Fixed Income Arbitrage     1.951918\n",
       "Global Macro               2.461907\n",
       "Long/Short Equity          3.942044\n",
       "Merger Arbitrage           1.535518\n",
       "Relative Value             2.160459\n",
       "Short Selling             10.213030\n",
       "Funds Of Funds             2.938540\n",
       "dtype: float64"
      ]
     },
     "execution_count": 26,
     "metadata": {},
     "output_type": "execute_result"
    }
   ],
   "source": [
    "# Question 1\n",
    "erk.var_gaussian(hfi,1) * 100"
   ]
  },
  {
   "cell_type": "code",
   "execution_count": 28,
   "id": "be09826f-1148-4ac5-b165-ea3db972f53c",
   "metadata": {},
   "outputs": [
    {
     "data": {
      "text/plain": [
       "Convertible Arbitrage     10.366556\n",
       "CTA Global                 4.664321\n",
       "Distressed Securities      4.966909\n",
       "Emerging Markets           8.679551\n",
       "Equity Market Neutral      4.143206\n",
       "Event Driven               4.573181\n",
       "Fixed Income Arbitrage     6.647930\n",
       "Global Macro               2.278564\n",
       "Long/Short Equity          5.138116\n",
       "Merger Arbitrage           2.128243\n",
       "Relative Value             4.898484\n",
       "Short Selling              9.832259\n",
       "Funds Of Funds             4.879303\n",
       "dtype: float64"
      ]
     },
     "execution_count": 28,
     "metadata": {},
     "output_type": "execute_result"
    }
   ],
   "source": [
    "#Question 2\n",
    "erk.var_gaussian(hfi, 1,True) * 100"
   ]
  },
  {
   "cell_type": "code",
   "execution_count": 30,
   "id": "f893308b-fa8e-4598-a456-ed010896554e",
   "metadata": {},
   "outputs": [
    {
     "data": {
      "text/plain": [
       "Convertible Arbitrage      3.1674\n",
       "CTA Global                 5.0938\n",
       "Distressed Securities      4.2642\n",
       "Emerging Markets           6.5496\n",
       "Equity Market Neutral      1.9800\n",
       "Event Driven               3.8540\n",
       "Fixed Income Arbitrage     3.0748\n",
       "Global Macro               2.2632\n",
       "Long/Short Equity          4.5060\n",
       "Merger Arbitrage           2.2654\n",
       "Relative Value             2.1788\n",
       "Short Selling             10.7684\n",
       "Funds Of Funds             2.7200\n",
       "dtype: float64"
      ]
     },
     "execution_count": 30,
     "metadata": {},
     "output_type": "execute_result"
    }
   ],
   "source": [
    "#Question 3\n",
    "erk.var_historic(hfi,1) * 100"
   ]
  },
  {
   "cell_type": "code",
   "execution_count": 31,
   "id": "26e22b4d-f486-4524-917c-a06dc3b4940e",
   "metadata": {},
   "outputs": [
    {
     "name": "stdout",
     "output_type": "stream",
     "text": [
      "25%\n"
     ]
    }
   ],
   "source": [
    "#Question 4\n",
    "print('25%')"
   ]
  },
  {
   "cell_type": "code",
   "execution_count": 40,
   "id": "729dac6c-486b-49d4-83c7-462c58f6a3fe",
   "metadata": {},
   "outputs": [],
   "source": [
    "ind30 = erk.get_ind_file('returns')['2013':'2017']"
   ]
  },
  {
   "cell_type": "code",
   "execution_count": 49,
   "id": "e280fe1f-31c4-4c7c-bc28-6f1963ea9482",
   "metadata": {},
   "outputs": [],
   "source": [
    "er = erk.annualize_rets(ind30,12)\n",
    "cov = ind30.cov()\n",
    "l = ['Books', 'Steel', 'Oil', 'Mines']\n"
   ]
  },
  {
   "cell_type": "code",
   "execution_count": 68,
   "id": "e0cd149c-6dde-46c6-ab40-681bbe6fdd4e",
   "metadata": {},
   "outputs": [
    {
     "data": {
      "text/plain": [
       "array([0., 1., 0., 0.])"
      ]
     },
     "execution_count": 68,
     "metadata": {},
     "output_type": "execute_result"
    }
   ],
   "source": [
    "#Question 5\n",
    "w_msr = erk.msr(.1, er[l], cov.loc[l,l])\n",
    "w_msr"
   ]
  },
  {
   "cell_type": "code",
   "execution_count": 69,
   "id": "c8735353-05dc-411d-a69a-498995ce5613",
   "metadata": {},
   "outputs": [
    {
     "data": {
      "text/plain": [
       "array([0.47702487, 0.        , 0.43411202, 0.08886311])"
      ]
     },
     "execution_count": 69,
     "metadata": {},
     "output_type": "execute_result"
    }
   ],
   "source": [
    "w_gmv = erk.gmv(cov.loc[l,l])\n",
    "w_gmv"
   ]
  },
  {
   "cell_type": "code",
   "execution_count": 61,
   "id": "d8ea45ce-d44c-456d-8e96-10110343b039",
   "metadata": {},
   "outputs": [
    {
     "name": "stderr",
     "output_type": "stream",
     "text": [
      "/var/folders/6g/f8rjbmdd4jj5qndnz_7lnjkw0000gn/T/ipykernel_14837/900271374.py:1: FutureWarning: Indexing a DataFrame with a datetimelike index using a single string to slice the rows, like `frame[string]`, is deprecated and will be removed in a future version. Use `frame.loc[string]` instead.\n",
      "  ind30_18 = erk.get_ind_returns()['2018']\n"
     ]
    }
   ],
   "source": [
    "ind30_18 = erk.get_ind_returns()['2018']"
   ]
  },
  {
   "cell_type": "code",
   "execution_count": 66,
   "id": "a81d44e1-77a7-42f4-a0f3-efa3d6b6c9a2",
   "metadata": {},
   "outputs": [
    {
     "data": {
      "text/plain": [
       "21.983988181484136"
      ]
     },
     "execution_count": 66,
     "metadata": {},
     "output_type": "execute_result"
    }
   ],
   "source": [
    "erk.portfolio_vol(w_msr,ind30_18[l].cov()) * np.sqrt(12) * 100"
   ]
  },
  {
   "cell_type": "code",
   "execution_count": 67,
   "id": "7b437ac9-d9dd-4f5e-8f4b-1bb22ab30587",
   "metadata": {},
   "outputs": [
    {
     "data": {
      "text/plain": [
       "18.973734511535802"
      ]
     },
     "execution_count": 67,
     "metadata": {},
     "output_type": "execute_result"
    }
   ],
   "source": [
    "erk.portfolio_vol(w_gmv,ind30_18[l].cov()) * np.sqrt(12) * 100"
   ]
  },
  {
   "cell_type": "code",
   "execution_count": null,
   "id": "c69d57d3-23a8-4e61-b3b8-16e61f11d4ad",
   "metadata": {},
   "outputs": [],
   "source": []
  }
 ],
 "metadata": {
  "kernelspec": {
   "display_name": "Python 3 (ipykernel)",
   "language": "python",
   "name": "python3"
  },
  "language_info": {
   "codemirror_mode": {
    "name": "ipython",
    "version": 3
   },
   "file_extension": ".py",
   "mimetype": "text/x-python",
   "name": "python",
   "nbconvert_exporter": "python",
   "pygments_lexer": "ipython3",
   "version": "3.9.7"
  }
 },
 "nbformat": 4,
 "nbformat_minor": 5
}
