{
 "cells": [
  {
   "cell_type": "markdown",
   "id": "1c098861-e25a-4795-9f8f-b34e20207cee",
   "metadata": {},
   "source": [
    "# Present Value of Liabilities and Funding Ratio"
   ]
  },
  {
   "cell_type": "markdown",
   "id": "878f2b6d-19b4-4add-8018-d691a09ffd00",
   "metadata": {},
   "source": [
    "The present value of a set of liablities $L$ where $L_i$ is due at time $t_i$ is given by: \n",
    "\n",
    "$$PV(L) = \\sum_{i=1}^{n} B(t_i)L_i$$\n",
    "\n",
    "where $B(t_i)$ is the price of a pure discountbond that pays 1 dollar at time $t_i$\n",
    "\n",
    "if we assume the yeild curve is flat and the annual interest rate $r$ then $B(t)$ is given by \n",
    "\n",
    "$$B(t) = \\frac{1}{(1+r)^t}$$"
   ]
  },
  {
   "cell_type": "code",
   "execution_count": 2,
   "id": "b809ebdf-428c-4920-8728-efebbd92f0b3",
   "metadata": {},
   "outputs": [],
   "source": [
    "import pandas as pd\n",
    "import numpy as np\n",
    "import edhec_risk_kit as erk\n",
    "%load_ext autoreload\n",
    "%autoreload 2"
   ]
  },
  {
   "cell_type": "code",
   "execution_count": 3,
   "id": "f960df63-b97a-4df8-a17d-1f53a7ccfdc5",
   "metadata": {},
   "outputs": [],
   "source": [
    "def discount(t,r):\n",
    "    \"\"\"\n",
    "    Compute the price a a zero cupon bond with interest rate r at time t\n",
    "    \"\"\"\n",
    "    \n",
    "    return (1+r)**(-t)"
   ]
  },
  {
   "cell_type": "code",
   "execution_count": 4,
   "id": "c786a277-c0b1-4841-8ad5-cd89d5eb8aa6",
   "metadata": {},
   "outputs": [
    {
     "data": {
      "text/plain": [
       "0.7440939148967249"
      ]
     },
     "execution_count": 4,
     "metadata": {},
     "output_type": "execute_result"
    }
   ],
   "source": [
    "discount(10,.03)"
   ]
  },
  {
   "cell_type": "code",
   "execution_count": 12,
   "id": "aaaee684-5baa-4f29-a65f-124144a63ecc",
   "metadata": {},
   "outputs": [],
   "source": [
    "def present_value(l,r):\n",
    "    \"\"\"\n",
    "    computes the present value of a sequence of liabilities\n",
    "    l is index by time and values of each liablity\n",
    "    returns the resent value\n",
    "    \"\"\"\n",
    "    \n",
    "    dates = l.index\n",
    "    discounts = discount(dates,r)\n",
    "    \n",
    "    return (discounts*l).sum()"
   ]
  },
  {
   "cell_type": "code",
   "execution_count": 38,
   "id": "9025f25a-4ab1-43c3-822d-069fda918b1b",
   "metadata": {},
   "outputs": [
    {
     "data": {
      "text/plain": [
       "3.0    1.0\n",
       "3.5    1.5\n",
       "4.0    2.0\n",
       "4.5    2.5\n",
       "dtype: float64"
      ]
     },
     "execution_count": 38,
     "metadata": {},
     "output_type": "execute_result"
    }
   ],
   "source": [
    "liab = pd.Series(data = [1,1.5,2,2.5], index = [3,3.5,4,4.5])\n",
    "liab"
   ]
  },
  {
   "cell_type": "code",
   "execution_count": 17,
   "id": "68135aaa-2c48-45b8-a234-6bfce31fa9cc",
   "metadata": {},
   "outputs": [
    {
     "data": {
      "text/plain": [
       "6.233320315080045"
      ]
     },
     "execution_count": 17,
     "metadata": {},
     "output_type": "execute_result"
    }
   ],
   "source": [
    "present_value(liab,.03)"
   ]
  },
  {
   "cell_type": "code",
   "execution_count": 19,
   "id": "06faffd5-ef39-4395-a93f-d2a4f1739836",
   "metadata": {},
   "outputs": [
    {
     "data": {
      "text/plain": [
       "1.1229969977742287"
      ]
     },
     "execution_count": 19,
     "metadata": {},
     "output_type": "execute_result"
    }
   ],
   "source": [
    "liab.sum()/present_value(liab,.03)"
   ]
  },
  {
   "cell_type": "code",
   "execution_count": 22,
   "id": "752572e3-c1f6-44d2-bbe0-eab0f303930a",
   "metadata": {},
   "outputs": [],
   "source": [
    "def funding_ratio(assets, liab,r):\n",
    "    \"\"\"\n",
    "    computes the funding ratio for a set of assets for a given interest rate\n",
    "    \"\"\"\n",
    "    return assets/present_value(liab,r)"
   ]
  },
  {
   "cell_type": "code",
   "execution_count": 27,
   "id": "659abfa5-467f-4bc5-9036-6f62c2062edf",
   "metadata": {},
   "outputs": [
    {
     "data": {
      "text/plain": [
       "0.7427501569991474"
      ]
     },
     "execution_count": 27,
     "metadata": {},
     "output_type": "execute_result"
    }
   ],
   "source": [
    "funding_ratio(5,liab,.01)"
   ]
  },
  {
   "cell_type": "code",
   "execution_count": 43,
   "id": "1dc89a85-922b-4b23-9e31-332db79a87f9",
   "metadata": {},
   "outputs": [],
   "source": [
    "import ipywidgets as widgets\n",
    "from IPython.display import display"
   ]
  },
  {
   "cell_type": "code",
   "execution_count": 44,
   "id": "6655b52f-aa2c-41a3-a2c6-c03e60c5bac2",
   "metadata": {},
   "outputs": [
    {
     "data": {
      "application/vnd.jupyter.widget-view+json": {
       "model_id": "2532273c3c9c4ed989645f4dac6186c1",
       "version_major": 2,
       "version_minor": 0
      },
      "text/plain": [
       "interactive(children=(IntSlider(value=5, description='assets', max=10), FloatSlider(value=0.1, description='r'…"
      ]
     },
     "metadata": {},
     "output_type": "display_data"
    }
   ],
   "source": [
    "def show_funding_ratio(assets, r):\n",
    "    fr = funding_ratio(assets, liab, r)\n",
    "    print(f'{fr*100:.2f}')\n",
    "    \n",
    "controls = widgets.interactive(show_funding_ratio,\n",
    "                              assets = widgets.IntSlider(min = 0, max = 10, step = 1,value = 5),\n",
    "                               r = (0,.20,.01)\n",
    "                              )\n",
    "\n",
    "display(controls)"
   ]
  },
  {
   "cell_type": "code",
   "execution_count": null,
   "id": "84679163-9ebd-4aaf-afaa-f7153b470eb6",
   "metadata": {},
   "outputs": [],
   "source": [
    "[[1,-1],\n",
    " [1,1]]"
   ]
  },
  {
   "cell_type": "code",
   "execution_count": null,
   "id": "d817f93e-5fdc-4497-ac29-a199a1f5976d",
   "metadata": {},
   "outputs": [],
   "source": []
  }
 ],
 "metadata": {
  "kernelspec": {
   "display_name": "Python 3 (ipykernel)",
   "language": "python",
   "name": "python3"
  },
  "language_info": {
   "codemirror_mode": {
    "name": "ipython",
    "version": 3
   },
   "file_extension": ".py",
   "mimetype": "text/x-python",
   "name": "python",
   "nbconvert_exporter": "python",
   "pygments_lexer": "ipython3",
   "version": "3.9.7"
  }
 },
 "nbformat": 4,
 "nbformat_minor": 5
}
