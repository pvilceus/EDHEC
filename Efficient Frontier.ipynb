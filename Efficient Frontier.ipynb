{
 "cells": [
  {
   "cell_type": "markdown",
   "id": "4b58cb3d-4911-4995-9c76-5874df6b32c7",
   "metadata": {},
   "source": [
    "# Efficent Frontier"
   ]
  },
  {
   "cell_type": "code",
   "execution_count": 1,
   "id": "7d7d9def-6a50-4555-8510-5f97d897e501",
   "metadata": {},
   "outputs": [],
   "source": [
    "import pandas as pd\n",
    "import numpy as np\n",
    "import matplotlib.pyplot as plt\n",
    "import edhec_risk_kit as erk\n",
    "\n",
    "%load_ext autoreload\n",
    "%autoreload 2"
   ]
  },
  {
   "cell_type": "code",
   "execution_count": 2,
   "id": "92ea8730-82b8-4be3-901e-e1b085fc1de6",
   "metadata": {},
   "outputs": [],
   "source": [
    "data = pd.read_csv('ind30_m_vw_rets.csv',\n",
    "           index_col = 0,\n",
    "           parse_dates = True)"
   ]
  },
  {
   "cell_type": "code",
   "execution_count": 3,
   "id": "5f392cef-5267-41d9-a86f-74b443b2b3ee",
   "metadata": {},
   "outputs": [
    {
     "data": {
      "text/html": [
       "<div>\n",
       "<style scoped>\n",
       "    .dataframe tbody tr th:only-of-type {\n",
       "        vertical-align: middle;\n",
       "    }\n",
       "\n",
       "    .dataframe tbody tr th {\n",
       "        vertical-align: top;\n",
       "    }\n",
       "\n",
       "    .dataframe thead th {\n",
       "        text-align: right;\n",
       "    }\n",
       "</style>\n",
       "<table border=\"1\" class=\"dataframe\">\n",
       "  <thead>\n",
       "    <tr style=\"text-align: right;\">\n",
       "      <th></th>\n",
       "      <th>Food</th>\n",
       "      <th>Beer</th>\n",
       "      <th>Smoke</th>\n",
       "      <th>Games</th>\n",
       "      <th>Books</th>\n",
       "      <th>Hshld</th>\n",
       "      <th>Clths</th>\n",
       "      <th>Hlth</th>\n",
       "      <th>Chems</th>\n",
       "      <th>Txtls</th>\n",
       "      <th>...</th>\n",
       "      <th>Telcm</th>\n",
       "      <th>Servs</th>\n",
       "      <th>BusEq</th>\n",
       "      <th>Paper</th>\n",
       "      <th>Trans</th>\n",
       "      <th>Whlsl</th>\n",
       "      <th>Rtail</th>\n",
       "      <th>Meals</th>\n",
       "      <th>Fin</th>\n",
       "      <th>Other</th>\n",
       "    </tr>\n",
       "  </thead>\n",
       "  <tbody>\n",
       "    <tr>\n",
       "      <th>192607</th>\n",
       "      <td>0.0056</td>\n",
       "      <td>-0.0519</td>\n",
       "      <td>0.0129</td>\n",
       "      <td>0.0293</td>\n",
       "      <td>0.1097</td>\n",
       "      <td>-0.0048</td>\n",
       "      <td>0.0808</td>\n",
       "      <td>0.0177</td>\n",
       "      <td>0.0814</td>\n",
       "      <td>0.0039</td>\n",
       "      <td>...</td>\n",
       "      <td>0.0083</td>\n",
       "      <td>0.0922</td>\n",
       "      <td>0.0206</td>\n",
       "      <td>0.0770</td>\n",
       "      <td>0.0193</td>\n",
       "      <td>-0.2379</td>\n",
       "      <td>0.0007</td>\n",
       "      <td>0.0187</td>\n",
       "      <td>0.0037</td>\n",
       "      <td>0.0520</td>\n",
       "    </tr>\n",
       "    <tr>\n",
       "      <th>192608</th>\n",
       "      <td>0.0259</td>\n",
       "      <td>0.2703</td>\n",
       "      <td>0.0650</td>\n",
       "      <td>0.0055</td>\n",
       "      <td>0.1001</td>\n",
       "      <td>-0.0358</td>\n",
       "      <td>-0.0251</td>\n",
       "      <td>0.0425</td>\n",
       "      <td>0.0550</td>\n",
       "      <td>0.0814</td>\n",
       "      <td>...</td>\n",
       "      <td>0.0217</td>\n",
       "      <td>0.0202</td>\n",
       "      <td>0.0439</td>\n",
       "      <td>-0.0238</td>\n",
       "      <td>0.0488</td>\n",
       "      <td>0.0539</td>\n",
       "      <td>-0.0075</td>\n",
       "      <td>-0.0013</td>\n",
       "      <td>0.0446</td>\n",
       "      <td>0.0676</td>\n",
       "    </tr>\n",
       "    <tr>\n",
       "      <th>192609</th>\n",
       "      <td>0.0116</td>\n",
       "      <td>0.0402</td>\n",
       "      <td>0.0126</td>\n",
       "      <td>0.0658</td>\n",
       "      <td>-0.0099</td>\n",
       "      <td>0.0073</td>\n",
       "      <td>-0.0051</td>\n",
       "      <td>0.0069</td>\n",
       "      <td>0.0533</td>\n",
       "      <td>0.0231</td>\n",
       "      <td>...</td>\n",
       "      <td>0.0241</td>\n",
       "      <td>0.0225</td>\n",
       "      <td>0.0019</td>\n",
       "      <td>-0.0554</td>\n",
       "      <td>0.0005</td>\n",
       "      <td>-0.0787</td>\n",
       "      <td>0.0025</td>\n",
       "      <td>-0.0056</td>\n",
       "      <td>-0.0123</td>\n",
       "      <td>-0.0386</td>\n",
       "    </tr>\n",
       "    <tr>\n",
       "      <th>192610</th>\n",
       "      <td>-0.0306</td>\n",
       "      <td>-0.0331</td>\n",
       "      <td>0.0106</td>\n",
       "      <td>-0.0476</td>\n",
       "      <td>0.0947</td>\n",
       "      <td>-0.0468</td>\n",
       "      <td>0.0012</td>\n",
       "      <td>-0.0057</td>\n",
       "      <td>-0.0476</td>\n",
       "      <td>0.0100</td>\n",
       "      <td>...</td>\n",
       "      <td>-0.0011</td>\n",
       "      <td>-0.0200</td>\n",
       "      <td>-0.0109</td>\n",
       "      <td>-0.0508</td>\n",
       "      <td>-0.0264</td>\n",
       "      <td>-0.1538</td>\n",
       "      <td>-0.0220</td>\n",
       "      <td>-0.0411</td>\n",
       "      <td>-0.0516</td>\n",
       "      <td>-0.0849</td>\n",
       "    </tr>\n",
       "    <tr>\n",
       "      <th>192611</th>\n",
       "      <td>0.0635</td>\n",
       "      <td>0.0729</td>\n",
       "      <td>0.0455</td>\n",
       "      <td>0.0166</td>\n",
       "      <td>-0.0580</td>\n",
       "      <td>-0.0054</td>\n",
       "      <td>0.0187</td>\n",
       "      <td>0.0542</td>\n",
       "      <td>0.0520</td>\n",
       "      <td>0.0311</td>\n",
       "      <td>...</td>\n",
       "      <td>0.0163</td>\n",
       "      <td>0.0377</td>\n",
       "      <td>0.0364</td>\n",
       "      <td>0.0384</td>\n",
       "      <td>0.0160</td>\n",
       "      <td>0.0467</td>\n",
       "      <td>0.0652</td>\n",
       "      <td>0.0433</td>\n",
       "      <td>0.0224</td>\n",
       "      <td>0.0400</td>\n",
       "    </tr>\n",
       "  </tbody>\n",
       "</table>\n",
       "<p>5 rows × 30 columns</p>\n",
       "</div>"
      ],
      "text/plain": [
       "         Food    Beer    Smoke   Games   Books   Hshld   Clths   Hlth   \\\n",
       "192607  0.0056 -0.0519  0.0129  0.0293  0.1097 -0.0048  0.0808  0.0177   \n",
       "192608  0.0259  0.2703  0.0650  0.0055  0.1001 -0.0358 -0.0251  0.0425   \n",
       "192609  0.0116  0.0402  0.0126  0.0658 -0.0099  0.0073 -0.0051  0.0069   \n",
       "192610 -0.0306 -0.0331  0.0106 -0.0476  0.0947 -0.0468  0.0012 -0.0057   \n",
       "192611  0.0635  0.0729  0.0455  0.0166 -0.0580 -0.0054  0.0187  0.0542   \n",
       "\n",
       "         Chems   Txtls  ...   Telcm   Servs   BusEq   Paper   Trans   Whlsl  \\\n",
       "192607  0.0814  0.0039  ...  0.0083  0.0922  0.0206  0.0770  0.0193 -0.2379   \n",
       "192608  0.0550  0.0814  ...  0.0217  0.0202  0.0439 -0.0238  0.0488  0.0539   \n",
       "192609  0.0533  0.0231  ...  0.0241  0.0225  0.0019 -0.0554  0.0005 -0.0787   \n",
       "192610 -0.0476  0.0100  ... -0.0011 -0.0200 -0.0109 -0.0508 -0.0264 -0.1538   \n",
       "192611  0.0520  0.0311  ...  0.0163  0.0377  0.0364  0.0384  0.0160  0.0467   \n",
       "\n",
       "         Rtail   Meals   Fin     Other  \n",
       "192607  0.0007  0.0187  0.0037  0.0520  \n",
       "192608 -0.0075 -0.0013  0.0446  0.0676  \n",
       "192609  0.0025 -0.0056 -0.0123 -0.0386  \n",
       "192610 -0.0220 -0.0411 -0.0516 -0.0849  \n",
       "192611  0.0652  0.0433  0.0224  0.0400  \n",
       "\n",
       "[5 rows x 30 columns]"
      ]
     },
     "execution_count": 3,
     "metadata": {},
     "output_type": "execute_result"
    }
   ],
   "source": [
    "idx = data/100\n",
    "idx.head()"
   ]
  },
  {
   "cell_type": "code",
   "execution_count": 4,
   "id": "068d3cb9-b6de-4c41-bf36-38bcff4a0d25",
   "metadata": {},
   "outputs": [],
   "source": [
    "idx.index = pd.to_datetime(idx.index, format = '%Y%m').to_period('M')"
   ]
  },
  {
   "cell_type": "code",
   "execution_count": 5,
   "id": "f18d7345-1f3c-4845-929e-11ea80439827",
   "metadata": {},
   "outputs": [],
   "source": [
    "columns = [column.replace(' ','') for column in list(idx.columns)]"
   ]
  },
  {
   "cell_type": "code",
   "execution_count": 6,
   "id": "2da692e3-c7cf-4ae5-b9a4-f6355ae2b73f",
   "metadata": {},
   "outputs": [
    {
     "data": {
      "text/plain": [
       "Index(['Food', 'Beer', 'Smoke', 'Games', 'Books', 'Hshld', 'Clths', 'Hlth',\n",
       "       'Chems', 'Txtls', 'Cnstr', 'Steel', 'FabPr', 'ElcEq', 'Autos', 'Carry',\n",
       "       'Mines', 'Coal', 'Oil', 'Util', 'Telcm', 'Servs', 'BusEq', 'Paper',\n",
       "       'Trans', 'Whlsl', 'Rtail', 'Meals', 'Fin', 'Other'],\n",
       "      dtype='object')"
      ]
     },
     "execution_count": 6,
     "metadata": {},
     "output_type": "execute_result"
    }
   ],
   "source": [
    "idx.columns = columns\n",
    "idx.columns"
   ]
  },
  {
   "cell_type": "code",
   "execution_count": 7,
   "id": "7e3ab832-81f7-4fa8-a9d1-da9162fce418",
   "metadata": {},
   "outputs": [
    {
     "data": {
      "text/plain": [
       "<AxesSubplot:title={'center':'Food Drawdown'}>"
      ]
     },
     "execution_count": 7,
     "metadata": {},
     "output_type": "execute_result"
    },
    {
     "data": {
      "image/png": "[encoded data removed]",
      "text/plain": [
       "<Figure size 864x432 with 1 Axes>"
      ]
     },
     "metadata": {
      "needs_background": "light"
     },
     "output_type": "display_data"
    }
   ],
   "source": [
    "erk.computeDrawdown(idx, 'Food')['drawdown'].plot(title = 'Food Drawdown', figsize = (12,6))"
   ]
  },
  {
   "cell_type": "code",
   "execution_count": 8,
   "id": "8362a2f8-7bb6-4345-99c5-766e478953df",
   "metadata": {},
   "outputs": [
    {
     "data": {
      "text/plain": [
       "Autos    0.119941\n",
       "Servs    0.124616\n",
       "Steel    0.129697\n",
       "Games    0.135309\n",
       "Coal     0.167033\n",
       "dtype: float64"
      ]
     },
     "execution_count": 8,
     "metadata": {},
     "output_type": "execute_result"
    }
   ],
   "source": [
    "erk.gussianVar(idx, modified = True).sort_values().tail()"
   ]
  },
  {
   "cell_type": "code",
   "execution_count": 9,
   "id": "86cdbd48-ee7d-4f8a-898b-510768c6ed03",
   "metadata": {},
   "outputs": [
    {
     "data": {
      "text/plain": [
       "Telcm    0.067026\n",
       "Food     0.068226\n",
       "Hlth     0.080671\n",
       "Util     0.081711\n",
       "Smoke    0.084150\n",
       "dtype: float64"
      ]
     },
     "execution_count": 9,
     "metadata": {},
     "output_type": "execute_result"
    }
   ],
   "source": [
    "erk.gussianVar(idx, modified = True).sort_values().head()"
   ]
  },
  {
   "cell_type": "code",
   "execution_count": 10,
   "id": "293cfb4f-8eb0-4fff-8098-427e1bb9c081",
   "metadata": {},
   "outputs": [
    {
     "data": {
      "text/plain": [
       "<AxesSubplot:>"
      ]
     },
     "execution_count": 10,
     "metadata": {},
     "output_type": "execute_result"
    },
    {
     "data": {
      "image/png": "[encoded data removed]",
      "text/plain": [
       "<Figure size 432x288 with 1 Axes>"
      ]
     },
     "metadata": {
      "needs_background": "light"
     },
     "output_type": "display_data"
    }
   ],
   "source": [
    "erk.gussianVar(idx, modified = True).sort_values().plot(kind = 'bar')"
   ]
  },
  {
   "cell_type": "code",
   "execution_count": 11,
   "id": "1c1836f6-f51b-4f50-bd4f-c0186dfe3ed4",
   "metadata": {},
   "outputs": [
    {
     "data": {
      "text/plain": [
       "Food     0.106649\n",
       "Beer     0.120041\n",
       "Smoke    0.122324\n",
       "Games    0.091829\n",
       "Books    0.079147\n",
       "Hshld    0.093513\n",
       "Clths    0.093518\n",
       "Hlth     0.116723\n",
       "Chems    0.107320\n",
       "Txtls    0.083356\n",
       "Cnstr    0.086209\n",
       "Steel    0.067926\n",
       "FabPr    0.098153\n",
       "ElcEq    0.109179\n",
       "Autos    0.094397\n",
       "Carry    0.107120\n",
       "Mines    0.075994\n",
       "Coal     0.062543\n",
       "Oil      0.101700\n",
       "Util     0.090147\n",
       "Telcm    0.092669\n",
       "Servs    0.109196\n",
       "BusEq    0.112490\n",
       "Paper    0.106115\n",
       "Trans    0.084093\n",
       "Whlsl    0.067420\n",
       "Rtail    0.107438\n",
       "Meals    0.106644\n",
       "Fin      0.098169\n",
       "Other    0.068767\n",
       "dtype: float64"
      ]
     },
     "execution_count": 11,
     "metadata": {},
     "output_type": "execute_result"
    }
   ],
   "source": [
    "erk.annualized_return(idx)"
   ]
  },
  {
   "cell_type": "code",
   "execution_count": 12,
   "id": "0168427d-5bb1-4309-a44d-a54d24571025",
   "metadata": {},
   "outputs": [
    {
     "data": {
      "text/plain": [
       "Food     0.163974\n",
       "Beer     0.248922\n",
       "Smoke    0.201206\n",
       "Games    0.308881\n",
       "Books    0.247850\n",
       "Hshld    0.200962\n",
       "Clths    0.210732\n",
       "Hlth     0.192703\n",
       "Chems    0.218022\n",
       "Txtls    0.265996\n",
       "Cnstr    0.238219\n",
       "Steel    0.292022\n",
       "FabPr    0.249735\n",
       "ElcEq    0.262667\n",
       "Autos    0.275035\n",
       "Carry    0.262226\n",
       "Mines    0.252297\n",
       "Coal     0.373938\n",
       "Oil      0.211075\n",
       "Util     0.190571\n",
       "Telcm    0.159056\n",
       "Servs    0.288004\n",
       "BusEq    0.233885\n",
       "Paper    0.202983\n",
       "Trans    0.244961\n",
       "Whlsl    0.253232\n",
       "Rtail    0.206729\n",
       "Meals    0.224011\n",
       "Fin      0.234825\n",
       "Other    0.234123\n",
       "dtype: float64"
      ]
     },
     "execution_count": 12,
     "metadata": {},
     "output_type": "execute_result"
    }
   ],
   "source": [
    "erk.annualized_volitility(idx)"
   ]
  },
  {
   "cell_type": "code",
   "execution_count": 14,
   "id": "1fbb9120-cfcf-4ddf-9194-56cd23cfcefa",
   "metadata": {},
   "outputs": [
    {
     "data": {
      "text/plain": [
       "Food     0.467446\n",
       "Beer     0.361724\n",
       "Smoke    0.458854\n",
       "Games    0.200171\n",
       "Books    0.198294\n",
       "Hshld    0.316044\n",
       "Clths    0.301416\n",
       "Hlth     0.450033\n",
       "Chems    0.354643\n",
       "Txtls    0.200591\n",
       "Cnstr    0.235955\n",
       "Steel    0.129874\n",
       "FabPr    0.272901\n",
       "ElcEq    0.301443\n",
       "Autos    0.234140\n",
       "Carry    0.294098\n",
       "Mines    0.182302\n",
       "Coal     0.087027\n",
       "Oil      0.339688\n",
       "Util     0.315616\n",
       "Telcm    0.394008\n",
       "Servs    0.274983\n",
       "BusEq    0.352694\n",
       "Paper    0.374984\n",
       "Trans    0.220822\n",
       "Whlsl    0.147769\n",
       "Rtail    0.374587\n",
       "Meals    0.342145\n",
       "Fin      0.290296\n",
       "Other    0.165584\n",
       "dtype: float64"
      ]
     },
     "execution_count": 14,
     "metadata": {},
     "output_type": "execute_result"
    }
   ],
   "source": [
    "erk.sharpe_ratio(idx, 12)"
   ]
  },
  {
   "cell_type": "code",
   "execution_count": null,
   "id": "01f410c8-f13d-4c81-8a2f-baf76e0c9de9",
   "metadata": {},
   "outputs": [],
   "source": []
  },
  {
   "cell_type": "code",
   "execution_count": null,
   "id": "1f3374fb-f33d-4124-9e8f-6ec6a9340640",
   "metadata": {},
   "outputs": [],
   "source": []
  }
 ],
 "metadata": {
  "kernelspec": {
   "display_name": "Python 3 (ipykernel)",
   "language": "python",
   "name": "python3"
  },
  "language_info": {
   "codemirror_mode": {
    "name": "ipython",
    "version": 3
   },
   "file_extension": ".py",
   "mimetype": "text/x-python",
   "name": "python",
   "nbconvert_exporter": "python",
   "pygments_lexer": "ipython3",
   "version": "3.9.7"
  }
 },
 "nbformat": 4,
 "nbformat_minor": 5
}
