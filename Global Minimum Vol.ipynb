{
 "cells": [
  {
   "cell_type": "markdown",
   "id": "779f5126-6cb4-40df-8c66-9b9ba5315da4",
   "metadata": {},
   "source": [
    "# Lack of Robustness "
   ]
  },
  {
   "cell_type": "code",
   "execution_count": 48,
   "id": "d5335bd1-bdda-476e-9fde-2d5dbc5d007b",
   "metadata": {},
   "outputs": [
    {
     "name": "stdout",
     "output_type": "stream",
     "text": [
      "The autoreload extension is already loaded. To reload it, use:\n",
      "  %reload_ext autoreload\n"
     ]
    }
   ],
   "source": [
    "import pandas as pd\n",
    "import numpy as np\n",
    "import edhec_risk_kit as erk\n",
    "from scipy.optimize import minimize\n",
    "\n",
    "%load_ext autoreload\n",
    "%autoreload 2"
   ]
  },
  {
   "cell_type": "code",
   "execution_count": 43,
   "id": "919df6a2-82af-4363-bef8-59c58f3f1401",
   "metadata": {},
   "outputs": [],
   "source": [
    "ind = erk.get_indecies()\n",
    "ind.columns = [column.replace(' ', '') for column in ind.columns]\n",
    "er = erk.annualized_return(ind['1996':'2000'])\n",
    "cov = ind['1996':'2000'].cov()"
   ]
  },
  {
   "cell_type": "code",
   "execution_count": 44,
   "id": "0c7b4b82-75ba-4212-80ea-fec934420f35",
   "metadata": {},
   "outputs": [],
   "source": [
    "l = ['Food', 'Steel']"
   ]
  },
  {
   "cell_type": "code",
   "execution_count": 52,
   "id": "db68665b-4097-4c55-ace2-c2c9b38163bc",
   "metadata": {},
   "outputs": [
    {
     "data": {
      "text/plain": [
       "2"
      ]
     },
     "execution_count": 52,
     "metadata": {},
     "output_type": "execute_result"
    }
   ],
   "source": [
    "er[l].shape[0]"
   ]
  },
  {
   "cell_type": "code",
   "execution_count": 39,
   "id": "b5f6f983-2f15-4a64-8153-f81764184faa",
   "metadata": {},
   "outputs": [
    {
     "data": {
      "text/plain": [
       "array([0.00916084, 0.99083916])"
      ]
     },
     "execution_count": 39,
     "metadata": {},
     "output_type": "execute_result"
    }
   ],
   "source": [
    "erk.msr(.1,np.array([.10,.13]),cov.loc[l,l])"
   ]
  },
  {
   "cell_type": "code",
   "execution_count": 47,
   "id": "836febac-7550-4abf-bfe2-9e83ee83209b",
   "metadata": {},
   "outputs": [
    {
     "name": "stdout",
     "output_type": "stream",
     "text": [
      "rest\n",
      "test\n"
     ]
    }
   ],
   "source": [
    "b = 4\n",
    "\n",
    "if b == 4:\n",
    "    print('rest')\n",
    "    \n",
    "if b < 5:\n",
    "    print('test')"
   ]
  },
  {
   "cell_type": "code",
   "execution_count": 84,
   "id": "60e9c219-a6ba-4fec-be16-b902a09aa1e6",
   "metadata": {},
   "outputs": [
    {
     "data": {
      "text/plain": [
       "<AxesSubplot:xlabel='Risk'>"
      ]
     },
     "execution_count": 84,
     "metadata": {},
     "output_type": "execute_result"
    },
    {
     "data": {
      "image/png": "[encoded data removed]",
      "text/plain": [
       "<Figure size 432x288 with 1 Axes>"
      ]
     },
     "metadata": {
      "needs_background": "light"
     },
     "output_type": "display_data"
    }
   ],
   "source": [
    "erk.plot_ef(20,er, cov,show_ew = True,show_cml = True,risk_free_rate = .1)"
   ]
  },
  {
   "cell_type": "code",
   "execution_count": 68,
   "id": "5114685a-8d9f-4710-89f3-940280a1899d",
   "metadata": {},
   "outputs": [
    {
     "data": {
      "text/plain": [
       "array([0.5, 0.5])"
      ]
     },
     "execution_count": 68,
     "metadata": {},
     "output_type": "execute_result"
    }
   ],
   "source": [
    "np.repeat(1/2, 2)"
   ]
  },
  {
   "cell_type": "code",
   "execution_count": null,
   "id": "8b293ea0-61d9-4be4-9ca6-c2fe60adf1d8",
   "metadata": {},
   "outputs": [],
   "source": []
  },
  {
   "cell_type": "code",
   "execution_count": null,
   "id": "c4a3c50c-dfcc-44a2-bae4-ee9b8605abc2",
   "metadata": {},
   "outputs": [],
   "source": []
  }
 ],
 "metadata": {
  "kernelspec": {
   "display_name": "Python 3 (ipykernel)",
   "language": "python",
   "name": "python3"
  },
  "language_info": {
   "codemirror_mode": {
    "name": "ipython",
    "version": 3
   },
   "file_extension": ".py",
   "mimetype": "text/x-python",
   "name": "python",
   "nbconvert_exporter": "python",
   "pygments_lexer": "ipython3",
   "version": "3.9.7"
  }
 },
 "nbformat": 4,
 "nbformat_minor": 5
}
