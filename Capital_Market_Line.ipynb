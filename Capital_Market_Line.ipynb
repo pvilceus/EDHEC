{
 "cells": [
  {
   "cell_type": "code",
   "execution_count": 56,
   "id": "519f8ce7-9d11-4b86-a059-e16a66eeb231",
   "metadata": {},
   "outputs": [
    {
     "name": "stdout",
     "output_type": "stream",
     "text": [
      "The autoreload extension is already loaded. To reload it, use:\n",
      "  %reload_ext autoreload\n"
     ]
    }
   ],
   "source": [
    "import pandas as pd\n",
    "import numpy as np\n",
    "import edhec_risk_kit as erk\n",
    "from scipy.optimize import minimize\n",
    "\n",
    "%load_ext autoreload\n",
    "%autoreload 2"
   ]
  },
  {
   "cell_type": "code",
   "execution_count": 21,
   "id": "468009ac-fa24-4ec8-acfc-f170ebae647d",
   "metadata": {},
   "outputs": [],
   "source": [
    "ind = erk.get_indecies()\n",
    "er = erk.annualized_return(ind['1996':'2000'])\n",
    "cov = ind['1996':'2000'].cov()"
   ]
  },
  {
   "cell_type": "code",
   "execution_count": 29,
   "id": "49392ada-778e-474c-b807-ff35edd37978",
   "metadata": {},
   "outputs": [],
   "source": [
    "def msr(risk_free_rate, er,cov):\n",
    "    \n",
    "    n = er.shape[0]\n",
    "    init_guess = np.repeat(1/n,n)\n",
    "    bounds = ((0,1),) * n\n",
    "    \n",
    "    \n",
    "    weights_sum_to_1 = {\n",
    "        'type': 'eq',\n",
    "        'fun': lambda weights:np.sum(weights)-1\n",
    "    }\n",
    "    \n",
    "    def neg_sharpe_ratio(weights,risk_free_rate, er,cov):\n",
    "        r = erk.portfolio_returns(weights,er)\n",
    "        vol = erk.portfolio_volitility(weights, cov)\n",
    "        \n",
    "        return -(r- risk_free_rate)/vol\n",
    "    \n",
    "    \n",
    "    results = minimize(neg_sharpe_ratio, init_guess,\n",
    "                      args = (risk_free_rate, er,cov,),method = 'SLSQP',\n",
    "                       options = {'disp': False},\n",
    "                       constraints = (weights_sum_to_1),\n",
    "                       bounds = bounds                 \n",
    "                      )\n",
    "    \n",
    "    return results.x"
   ]
  },
  {
   "cell_type": "code",
   "execution_count": 52,
   "id": "ab54a649-c5ec-4a90-8910-fcbd8d88fb99",
   "metadata": {},
   "outputs": [
    {
     "data": {
      "text/plain": [
       "[<matplotlib.lines.Line2D at 0x7fe5e954ed00>]"
      ]
     },
     "execution_count": 52,
     "metadata": {},
     "output_type": "execute_result"
    },
    {
     "data": {
      "image/png": "[encoded data removed]",
      "text/plain": [
       "<Figure size 432x288 with 1 Axes>"
      ]
     },
     "metadata": {
      "needs_background": "light"
     },
     "output_type": "display_data"
    }
   ],
   "source": [
    "ax = erk.plot_ef(20,er,cov)\n",
    "ax.set_xlim(left = 0)\n",
    "rf = .01\n",
    "w_msr = msr(rf,er,cov)\n",
    "r_msr = erk.portfolio_returns(w_msr, er)\n",
    "v_msr = erk.portfolio_volitility(w_msr, cov)\n",
    "\n",
    "#cml\n",
    "cml_x = [0,v_msr]\n",
    "cml_y = [rf,r_msr]\n",
    "\n",
    "ax.plot(cml_x, cml_y, color = 'green', marker = 'o', linestyle = 'dashed')"
   ]
  },
  {
   "cell_type": "code",
   "execution_count": 62,
   "id": "525a64b0-3c90-47c3-990b-ada5e587b483",
   "metadata": {},
   "outputs": [
    {
     "data": {
      "text/plain": [
       "<AxesSubplot:xlabel='Risk'>"
      ]
     },
     "execution_count": 62,
     "metadata": {},
     "output_type": "execute_result"
    },
    {
     "data": {
      "image/png": "[encoded data removed]",
      "text/plain": [
       "<Figure size 432x288 with 1 Axes>"
      ]
     },
     "metadata": {
      "needs_background": "light"
     },
     "output_type": "display_data"
    }
   ],
   "source": [
    "erk.plot_ef(25,er,cov,True,.1)"
   ]
  },
  {
   "cell_type": "code",
   "execution_count": 63,
   "id": "cf9af8c8-3b9b-4e59-94f2-8ed92465fe20",
   "metadata": {},
   "outputs": [
    {
     "data": {
      "text/plain": [
       "Agric    0.066551\n",
       "Food     0.064025\n",
       "Soda     0.298488\n",
       "Beer     0.026615\n",
       "Smoke    0.130061\n",
       "Toys    -0.069301\n",
       "Fun     -0.031208\n",
       "Books    0.072540\n",
       "Hshld    0.025293\n",
       "Clths    0.025057\n",
       "Hlth    -0.034381\n",
       "MedEq    0.088227\n",
       "Drugs    0.228699\n",
       "Chems    0.068160\n",
       "Rubbr    0.035420\n",
       "Txtls   -0.128175\n",
       "BldMt    0.069930\n",
       "Cnstr    0.058304\n",
       "Steel   -0.015182\n",
       "FabPr    0.008263\n",
       "Mach     0.100842\n",
       "ElcEq    0.167077\n",
       "Autos    0.017198\n",
       "Aero     0.266181\n",
       "Ships    0.143066\n",
       "Guns     0.121190\n",
       "Gold    -0.247120\n",
       "Mines    0.078887\n",
       "Coal     0.210707\n",
       "Oil      0.194653\n",
       "Util     0.190359\n",
       "Telcm    0.109441\n",
       "PerSv   -0.001760\n",
       "BusSv    0.111793\n",
       "Hardw    0.138470\n",
       "Softw    0.031504\n",
       "Chips    0.229625\n",
       "LabEq    0.211196\n",
       "Paper    0.041938\n",
       "Boxes    0.054226\n",
       "Trans    0.047572\n",
       "Whlsl    0.019654\n",
       "Rtail    0.045305\n",
       "Meals   -0.034366\n",
       "Banks    0.142421\n",
       "Insur    0.105861\n",
       "RlEst    0.017827\n",
       "Fin      0.141120\n",
       "Other    0.086328\n",
       "dtype: float64"
      ]
     },
     "execution_count": 63,
     "metadata": {},
     "output_type": "execute_result"
    }
   ],
   "source": [
    "erk.annualized_return(ind['1996':'2000'])"
   ]
  },
  {
   "cell_type": "code",
   "execution_count": null,
   "id": "6d4d0e98-0536-4207-b77a-eca81a1136b4",
   "metadata": {},
   "outputs": [],
   "source": []
  }
 ],
 "metadata": {
  "kernelspec": {
   "display_name": "Python 3 (ipykernel)",
   "language": "python",
   "name": "python3"
  },
  "language_info": {
   "codemirror_mode": {
    "name": "ipython",
    "version": 3
   },
   "file_extension": ".py",
   "mimetype": "text/x-python",
   "name": "python",
   "nbconvert_exporter": "python",
   "pygments_lexer": "ipython3",
   "version": "3.9.7"
  }
 },
 "nbformat": 4,
 "nbformat_minor": 5
}
