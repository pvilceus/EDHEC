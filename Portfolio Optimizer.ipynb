{
 "cells": [
  {
   "cell_type": "code",
   "execution_count": 2,
   "id": "bf31a869-a22c-484f-a4b7-575fc4626b57",
   "metadata": {},
   "outputs": [],
   "source": [
    "import pandas as pd\n",
    "import numpy as np\n",
    "import edhec_risk_kit as erk\n",
    "\n",
    "%load_ext autoreload\n",
    "%autoreload 2"
   ]
  },
  {
   "cell_type": "code",
   "execution_count": 3,
   "id": "94b37050-2af5-4ce5-84b5-0556073e4f39",
   "metadata": {},
   "outputs": [],
   "source": [
    "ind = pd.read_csv('ind30_m_vw_rets.csv', parse_dates = True, na_values = -99.99, index_col = 0)/100\n",
    "ind.index = pd.to_datetime(ind.index, format = '%Y%m').to_period('M')"
   ]
  },
  {
   "cell_type": "code",
   "execution_count": 13,
   "id": "71b28b7c-e1e6-4422-8f45-7236ce8c8606",
   "metadata": {},
   "outputs": [
    {
     "data": {
      "text/plain": [
       "Index(['Food', 'Beer', 'Smoke', 'Games', 'Books', 'Hshld', 'Clths', 'Hlth',\n",
       "       'Chems', 'Txtls', 'Cnstr', 'Steel', 'FabPr', 'ElcEq', 'Autos', 'Carry',\n",
       "       'Mines', 'Coal', 'Oil', 'Util', 'Telcm', 'Servs', 'BusEq', 'Paper',\n",
       "       'Trans', 'Whlsl', 'Rtail', 'Meals', 'Fin', 'Other'],\n",
       "      dtype='object')"
      ]
     },
     "execution_count": 13,
     "metadata": {},
     "output_type": "execute_result"
    }
   ],
   "source": [
    "ind.columns = [column.replace(' ','') for column in ind.columns]\n",
    "ind.columns"
   ]
  },
  {
   "cell_type": "code",
   "execution_count": 4,
   "id": "da24941e-55c5-4201-8148-c4f1cec0c2a4",
   "metadata": {},
   "outputs": [],
   "source": [
    "er = erk.annualized_return(ind['1996':'2000'])\n",
    "cov = ind['1996':'2000'].cov()"
   ]
  },
  {
   "cell_type": "markdown",
   "id": "4e7c3d08-7114-4517-87d3-05a8b07c125f",
   "metadata": {},
   "source": [
    "``` \n",
    "weights = ??\n",
    "rets = [erk.portfolio_returns(w,er) for w in weights]\n",
    "vol = [erk.portfolio_volitility(w,er) for w in weights]\n",
    "\n",
    "```"
   ]
  },
  {
   "cell_type": "code",
   "execution_count": 17,
   "id": "767c2bc3-ec2d-49aa-b543-4d6cff424ea1",
   "metadata": {},
   "outputs": [],
   "source": [
    "from scipy.optimize import minimize"
   ]
  },
  {
   "cell_type": "code",
   "execution_count": 18,
   "id": "37c35381-9678-4c34-9d6d-d039352a39c2",
   "metadata": {},
   "outputs": [
    {
     "data": {
      "text/plain": [
       "0.14579149086310117"
      ]
     },
     "execution_count": 18,
     "metadata": {},
     "output_type": "execute_result"
    }
   ],
   "source": [
    "l = ['Games', 'Fin']\n",
    "rets = erk.portfolio_returns(np.array([.5,.5]),er[l])\n",
    "rets"
   ]
  },
  {
   "cell_type": "code",
   "execution_count": 1,
   "id": "8a7a9ac0-9853-409d-bdfe-a55b63afb82f",
   "metadata": {},
   "outputs": [
    {
     "ename": "NameError",
     "evalue": "name 'erk' is not defined",
     "output_type": "error",
     "traceback": [
      "\u001b[0;31m---------------------------------------------------------------------------\u001b[0m",
      "\u001b[0;31mNameError\u001b[0m                                 Traceback (most recent call last)",
      "\u001b[0;32m/var/folders/6g/f8rjbmdd4jj5qndnz_7lnjkw0000gn/T/ipykernel_7278/1667856952.py\u001b[0m in \u001b[0;36m<module>\u001b[0;34m\u001b[0m\n\u001b[0;32m----> 1\u001b[0;31m \u001b[0merk\u001b[0m\u001b[0;34m.\u001b[0m\u001b[0mplot_ef\u001b[0m\u001b[0;34m(\u001b[0m\u001b[0;36m20\u001b[0m\u001b[0;34m,\u001b[0m\u001b[0mer\u001b[0m\u001b[0;34m[\u001b[0m\u001b[0ml\u001b[0m\u001b[0;34m]\u001b[0m\u001b[0;34m,\u001b[0m\u001b[0mcov\u001b[0m\u001b[0;34m.\u001b[0m\u001b[0mloc\u001b[0m\u001b[0;34m[\u001b[0m\u001b[0ml\u001b[0m\u001b[0;34m,\u001b[0m\u001b[0ml\u001b[0m\u001b[0;34m]\u001b[0m\u001b[0;34m)\u001b[0m\u001b[0;34m\u001b[0m\u001b[0;34m\u001b[0m\u001b[0m\n\u001b[0m",
      "\u001b[0;31mNameError\u001b[0m: name 'erk' is not defined"
     ]
    }
   ],
   "source": [
    "erk.plot_ef(20,er[l],cov.loc[l,l])"
   ]
  },
  {
   "cell_type": "code",
   "execution_count": 75,
   "id": "9f3b45f1-dad4-497f-a74b-29109240a236",
   "metadata": {},
   "outputs": [
    {
     "data": {
      "text/plain": [
       "0.056163669406706564"
      ]
     },
     "execution_count": 75,
     "metadata": {},
     "output_type": "execute_result"
    }
   ],
   "source": [
    "vol15 = erk.min_volitlity(.15,er[l],cov.loc[l,l])\n",
    "erk.portfolio_volitility(vol15, cov.loc[l,l])"
   ]
  },
  {
   "cell_type": "code",
   "execution_count": 79,
   "id": "ff7c597d-777d-4e54-9a5e-8b8e2ca30856",
   "metadata": {},
   "outputs": [
    {
     "data": {
      "text/plain": [
       "-0.0535544410885449"
      ]
     },
     "execution_count": 79,
     "metadata": {},
     "output_type": "execute_result"
    }
   ],
   "source": [
    "l = ['Smoke', 'Fin', 'Games', 'Coal']"
   ]
  },
  {
   "cell_type": "code",
   "execution_count": 93,
   "id": "3e0b09bd-9f5e-4341-bd81-c95838a786ab",
   "metadata": {},
   "outputs": [],
   "source": [
    "def optimal_weights(n_points, er, cov):\n",
    "    target_rs = np.linspace(er.min(),er.max(),n_points)\n",
    "    weights = [erk.min_volitlity(target_return,er,cov) for target_return in target_rs ]\n",
    "    return weights\n",
    "\n",
    "def plot_ef(n_points, er, cov, style = '.-'):\n",
    "    \"\"\"\n",
    "    Plots the Efficent Forntier for a given set of returns and volilities\n",
    "    \"\"\"\n",
    "    \n",
    "    weights = optimal_weights(n_points, er, cov)\n",
    "    rets = [erk.portfolio_returns(w, er) for w in weights]\n",
    "    vol = [erk.portfolio_volitility(w,cov) for w in weights]\n",
    "    return pd.DataFrame({'Rets':rets,'Risk':vol}).plot.line(x = 'Risk', \n",
    "                                                     y = 'Rets', \n",
    "                                                     style = '.-',\n",
    "                                                     title = 'Efficient Frontier for a {} asset portfolio'.format(n_points))"
   ]
  },
  {
   "cell_type": "code",
   "execution_count": 5,
   "id": "935430f5-3253-426f-b8d6-efe64f4e094d",
   "metadata": {},
   "outputs": [
    {
     "data": {
      "image/png": "[encoded data removed]",
      "text/plain": [
       "<Figure size 432x288 with 1 Axes>"
      ]
     },
     "metadata": {
      "needs_background": "light"
     },
     "output_type": "display_data"
    }
   ],
   "source": [
    "erk.plot_ef(25,er,cov)"
   ]
  },
  {
   "cell_type": "code",
   "execution_count": 124,
   "id": "cc063232-576a-47a6-a6be-81de14756f0c",
   "metadata": {},
   "outputs": [],
   "source": [
    "optimal_weights = erk.optimal_weights(er.shape[0],er,cov)"
   ]
  },
  {
   "cell_type": "code",
   "execution_count": 161,
   "id": "459b229a-dff9-43a4-a42d-a9adb20fd6c9",
   "metadata": {},
   "outputs": [],
   "source": [
    "optimal_returns = [erk.portfolio_returns(weight,er) for weight in optimal_weights]\n",
    "optimal_returns = (np.array(optimal_returns) * 100).round(2)"
   ]
  },
  {
   "cell_type": "code",
   "execution_count": 162,
   "id": "de759f9c-5e67-458f-829b-4bef53ed6d47",
   "metadata": {},
   "outputs": [],
   "source": [
    "min_vol = [erk.portfolio_volitility(weight,cov) for weight in optimal_weights ]\n",
    "min_vol = (np.array(min_vol) * 100).round(2)"
   ]
  },
  {
   "cell_type": "code",
   "execution_count": 176,
   "id": "ba6520fe-859f-42b3-8fe3-d015e472ab47",
   "metadata": {},
   "outputs": [],
   "source": [
    "tab1 = pd.DataFrame(optimal_weights, columns = er.index).round(2) * 100"
   ]
  },
  {
   "cell_type": "code",
   "execution_count": 180,
   "id": "be58b0b9-269e-40b0-b337-b401e95fb207",
   "metadata": {},
   "outputs": [],
   "source": [
    "tab2 = pd.DataFrame({'Returns': optimal_returns,\n",
    "             'Volitlity':min_vol})\n"
   ]
  },
  {
   "cell_type": "code",
   "execution_count": 206,
   "id": "6898a471-6a6c-42df-9de8-38f223d2267a",
   "metadata": {},
   "outputs": [],
   "source": [
    "rv_w = pd.concat([tab2,tab1], axis = 1)"
   ]
  },
  {
   "cell_type": "code",
   "execution_count": 210,
   "id": "21e6f0ba-6672-40b1-bff0-f548d4f89ce1",
   "metadata": {},
   "outputs": [
    {
     "data": {
      "text/plain": [
       "Returns      22.09\n",
       "Volitlity     3.55\n",
       "Hlth         30.00\n",
       "ElcEq         5.00\n",
       "Coal          7.00\n",
       "Util         33.00\n",
       "BusEq         8.00\n",
       "Rtail        18.00\n",
       "Name: 17, dtype: float64"
      ]
     },
     "execution_count": 210,
     "metadata": {},
     "output_type": "execute_result"
    }
   ],
   "source": [
    "rv_w.iloc[17][rv_w.iloc[17] > 0]"
   ]
  },
  {
   "cell_type": "code",
   "execution_count": null,
   "id": "03c77256-b5fb-4744-b3fb-723c551e5743",
   "metadata": {},
   "outputs": [],
   "source": []
  }
 ],
 "metadata": {
  "kernelspec": {
   "display_name": "Python 3 (ipykernel)",
   "language": "python",
   "name": "python3"
  },
  "language_info": {
   "codemirror_mode": {
    "name": "ipython",
    "version": 3
   },
   "file_extension": ".py",
   "mimetype": "text/x-python",
   "name": "python",
   "nbconvert_exporter": "python",
   "pygments_lexer": "ipython3",
   "version": "3.9.7"
  }
 },
 "nbformat": 4,
 "nbformat_minor": 5
}
