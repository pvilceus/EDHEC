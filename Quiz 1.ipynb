{
 "cells": [
  {
   "cell_type": "markdown",
   "id": "6fa309a7-5f65-4c93-b8d8-027677a5e2da",
   "metadata": {},
   "source": [
    "# Quiz 1"
   ]
  },
  {
   "cell_type": "code",
   "execution_count": null,
   "id": "3df2c8c3-4cb4-4181-8e2c-9564f8564da6",
   "metadata": {},
   "outputs": [],
   "source": [
    "import numpy as np\n",
    "import pandas as pd\n",
    "import edhec_risk_kit as edk"
   ]
  },
  {
   "cell_type": "code",
   "execution_count": null,
   "id": "9a91af92-7eca-43a3-9dc4-44f8c6e2b2d9",
   "metadata": {},
   "outputs": [],
   "source": [
    "data = pd.read_csv('Portfolios_Formed_on_ME_monthly_EW.csv',\n",
    "                  index_col = 0,\n",
    "                  parse_dates = True,\n",
    "                  na_values = -99.99)"
   ]
  },
  {
   "cell_type": "code",
   "execution_count": null,
   "id": "252b2bc6-2a8c-449e-aeda-f2fc7f61211f",
   "metadata": {},
   "outputs": [],
   "source": [
    "data.index = pd.to_datetime(data.index, format = '%Y%m').to_period('M')"
   ]
  },
  {
   "cell_type": "code",
   "execution_count": 92,
   "id": "738ff27f-6a71-403b-b865-280e930a0840",
   "metadata": {},
   "outputs": [
    {
     "data": {
      "text/html": [
       "<div>\n",
       "<style scoped>\n",
       "    .dataframe tbody tr th:only-of-type {\n",
       "        vertical-align: middle;\n",
       "    }\n",
       "\n",
       "    .dataframe tbody tr th {\n",
       "        vertical-align: top;\n",
       "    }\n",
       "\n",
       "    .dataframe thead th {\n",
       "        text-align: right;\n",
       "    }\n",
       "</style>\n",
       "<table border=\"1\" class=\"dataframe\">\n",
       "  <thead>\n",
       "    <tr style=\"text-align: right;\">\n",
       "      <th></th>\n",
       "      <th>Lo 20</th>\n",
       "      <th>Hi 20</th>\n",
       "    </tr>\n",
       "  </thead>\n",
       "  <tbody>\n",
       "    <tr>\n",
       "      <th>1926-07</th>\n",
       "      <td>-0.0057</td>\n",
       "      <td>0.0333</td>\n",
       "    </tr>\n",
       "    <tr>\n",
       "      <th>1926-08</th>\n",
       "      <td>0.0384</td>\n",
       "      <td>0.0233</td>\n",
       "    </tr>\n",
       "    <tr>\n",
       "      <th>1926-09</th>\n",
       "      <td>-0.0048</td>\n",
       "      <td>-0.0009</td>\n",
       "    </tr>\n",
       "    <tr>\n",
       "      <th>1926-10</th>\n",
       "      <td>-0.0329</td>\n",
       "      <td>-0.0295</td>\n",
       "    </tr>\n",
       "    <tr>\n",
       "      <th>1926-11</th>\n",
       "      <td>-0.0055</td>\n",
       "      <td>0.0316</td>\n",
       "    </tr>\n",
       "  </tbody>\n",
       "</table>\n",
       "</div>"
      ],
      "text/plain": [
       "          Lo 20   Hi 20\n",
       "1926-07 -0.0057  0.0333\n",
       "1926-08  0.0384  0.0233\n",
       "1926-09 -0.0048 -0.0009\n",
       "1926-10 -0.0329 -0.0295\n",
       "1926-11 -0.0055  0.0316"
      ]
     },
     "execution_count": 92,
     "metadata": {},
     "output_type": "execute_result"
    }
   ],
   "source": [
    "col = ['Lo 20', 'Hi 20']\n",
    "rets = data[col]/100\n",
    "rets.head()"
   ]
  },
  {
   "cell_type": "code",
   "execution_count": 93,
   "id": "5b47d2f2-bb50-40df-9d8f-cc66fc62ddc6",
   "metadata": {},
   "outputs": [
    {
     "data": {
      "text/plain": [
       "Lo 20    0.151977\n",
       "Hi 20    0.098490\n",
       "dtype: float64"
      ]
     },
     "execution_count": 93,
     "metadata": {},
     "output_type": "execute_result"
    }
   ],
   "source": [
    "#Annualized Return over Period\n",
    "(1 + rets).prod()**(12/rets.shape[0]) -1"
   ]
  },
  {
   "cell_type": "code",
   "execution_count": 94,
   "id": "bb737e19-f73f-429b-8a8d-c33110cf6068",
   "metadata": {},
   "outputs": [
    {
     "data": {
      "text/plain": [
       "Lo 20    0.336701\n",
       "Hi 20    0.195116\n",
       "dtype: float64"
      ]
     },
     "execution_count": 94,
     "metadata": {},
     "output_type": "execute_result"
    }
   ],
   "source": [
    "#Annualized Volitility\n",
    "rets.std() * np.sqrt(12)"
   ]
  },
  {
   "cell_type": "code",
   "execution_count": 95,
   "id": "8534af3a-10ea-4916-8fdd-6c55e2129106",
   "metadata": {},
   "outputs": [
    {
     "data": {
      "text/plain": [
       "Lo 20    0.114426\n",
       "Hi 20    0.062865\n",
       "dtype: float64"
      ]
     },
     "execution_count": 95,
     "metadata": {},
     "output_type": "execute_result"
    }
   ],
   "source": [
    "#Annualized Return\n",
    "(rets['1999':'2015'] + 1).prod() ** (12/rets['1999':'2015'].shape[0]) - 1"
   ]
  },
  {
   "cell_type": "code",
   "execution_count": 96,
   "id": "184b72c7-ff41-4818-8f4a-290876c68267",
   "metadata": {},
   "outputs": [
    {
     "data": {
      "text/plain": [
       "Lo 20    0.228894\n",
       "Hi 20    0.172713\n",
       "dtype: float64"
      ]
     },
     "execution_count": 96,
     "metadata": {},
     "output_type": "execute_result"
    }
   ],
   "source": [
    "#Annualized Volitlity\n",
    "rets['1999':'2015'].std() * np.sqrt(12)"
   ]
  },
  {
   "cell_type": "code",
   "execution_count": 97,
   "id": "8456bba6-0d64-4447-bfdc-7e7cf7d2908b",
   "metadata": {},
   "outputs": [],
   "source": [
    "def computeDrawdown(data : pd.Series ,column):\n",
    "    wealthIndex = 1000 * (1 + data[column]).cumprod()\n",
    "    peaks = wealthIndex.cummax()\n",
    "    drawdown = (wealthIndex - peaks)/peaks\n",
    "    \n",
    "    return_df =  pd.DataFrame({\n",
    "    'Wealth':wealthIndex,\n",
    "    'Peaks': peaks,\n",
    "    'drawdown':drawdown})\n",
    "    \n",
    "    return return_df\n",
    "    "
   ]
  },
  {
   "cell_type": "code",
   "execution_count": 98,
   "id": "a2168f57-3797-479b-a16f-814e138cd8fe",
   "metadata": {},
   "outputs": [],
   "source": [
    "drawdown_lo = computeDrawdown(rets,'Lo 20')\n",
    "drawdown_hi = computeDrawdown(rets,'Hi 20')"
   ]
  },
  {
   "cell_type": "code",
   "execution_count": 99,
   "id": "93087bd7-49b5-4609-ba3c-b53cc79889db",
   "metadata": {},
   "outputs": [
    {
     "data": {
      "text/plain": [
       "drawdown   -0.624809\n",
       "dtype: float64"
      ]
     },
     "execution_count": 99,
     "metadata": {},
     "output_type": "execute_result"
    }
   ],
   "source": [
    "drawdown_lo['1999':'2015'][['drawdown']].min()"
   ]
  },
  {
   "cell_type": "code",
   "execution_count": 100,
   "id": "187aa16b-801e-4dd0-aa97-7d95d5353053",
   "metadata": {},
   "outputs": [
    {
     "data": {
      "text/plain": [
       "drawdown    2009-02\n",
       "dtype: period[M]"
      ]
     },
     "execution_count": 100,
     "metadata": {},
     "output_type": "execute_result"
    }
   ],
   "source": [
    "drawdown_lo['1999':'2015'][['drawdown']].idxmin()"
   ]
  },
  {
   "cell_type": "code",
   "execution_count": 101,
   "id": "1ac995c1-d6b3-4453-84c5-682ef2ef50a0",
   "metadata": {},
   "outputs": [
    {
     "data": {
      "text/plain": [
       "drawdown   -0.552735\n",
       "dtype: float64"
      ]
     },
     "execution_count": 101,
     "metadata": {},
     "output_type": "execute_result"
    }
   ],
   "source": [
    "drawdown_hi['1999':'2015'][['drawdown']].min()"
   ]
  },
  {
   "cell_type": "code",
   "execution_count": 102,
   "id": "4b8b4bc4-096a-4e8f-9632-dee6db8566a1",
   "metadata": {},
   "outputs": [
    {
     "data": {
      "text/plain": [
       "drawdown    2009-02\n",
       "dtype: period[M]"
      ]
     },
     "execution_count": 102,
     "metadata": {},
     "output_type": "execute_result"
    }
   ],
   "source": [
    "drawdown_hi['1999':'2015'][['drawdown']].idxmin()"
   ]
  },
  {
   "cell_type": "code",
   "execution_count": null,
   "id": "0066fd1f-c075-4730-ac81-5cadee53433a",
   "metadata": {},
   "outputs": [],
   "source": [
    "hfi = pd.read_csv('edhec-hedgefundindices.csv',\n",
    "                 index_col = 0,\n",
    "                 na_values = -99.99,\n",
    "                 parse_dates = True)"
   ]
  },
  {
   "cell_type": "code",
   "execution_count": 103,
   "id": "80123804-590a-43b0-96dd-56ee5c213cc9",
   "metadata": {},
   "outputs": [
    {
     "data": {
      "text/plain": [
       "'Short Selling'"
      ]
     },
     "execution_count": 103,
     "metadata": {},
     "output_type": "execute_result"
    }
   ],
   "source": [
    "edk.semivariance(hfi['2009':]).idxmax()"
   ]
  },
  {
   "cell_type": "code",
   "execution_count": 104,
   "id": "398ce61c-8673-4f0a-a0cd-657b99f8b5da",
   "metadata": {},
   "outputs": [
    {
     "data": {
      "text/plain": [
       "'Fixed Income Arbitrage'"
      ]
     },
     "execution_count": 104,
     "metadata": {},
     "output_type": "execute_result"
    }
   ],
   "source": [
    "edk.semivariance(hfi['2009':]).idxmin()"
   ]
  },
  {
   "cell_type": "code",
   "execution_count": 105,
   "id": "77a34202-59de-4373-9703-530b06b1bace",
   "metadata": {},
   "outputs": [
    {
     "data": {
      "text/plain": [
       "'Equity Market Neutral'"
      ]
     },
     "execution_count": 105,
     "metadata": {},
     "output_type": "execute_result"
    }
   ],
   "source": [
    "edk.skewness(hfi['2009':]).idxmin()"
   ]
  },
  {
   "cell_type": "code",
   "execution_count": 106,
   "id": "367a8d02-5d36-46b6-ade0-f63d729f7454",
   "metadata": {},
   "outputs": [
    {
     "data": {
      "text/plain": [
       "'Convertible Arbitrage'"
      ]
     },
     "execution_count": 106,
     "metadata": {},
     "output_type": "execute_result"
    }
   ],
   "source": [
    "edk.kurtosis(hfi['2009':'2018']).idxmax()"
   ]
  },
  {
   "cell_type": "code",
   "execution_count": null,
   "id": "a0b02c3d-dfc5-4ae2-a502-2d7009c2edd0",
   "metadata": {},
   "outputs": [],
   "source": []
  }
 ],
 "metadata": {
  "kernelspec": {
   "display_name": "Python 3 (ipykernel)",
   "language": "python",
   "name": "python3"
  },
  "language_info": {
   "codemirror_mode": {
    "name": "ipython",
    "version": 3
   },
   "file_extension": ".py",
   "mimetype": "text/x-python",
   "name": "python",
   "nbconvert_exporter": "python",
   "pygments_lexer": "ipython3",
   "version": "3.9.7"
  }
 },
 "nbformat": 4,
 "nbformat_minor": 5
}
