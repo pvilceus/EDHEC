{
 "cells": [
  {
   "cell_type": "markdown",
   "id": "beb6f818-5751-4d47-9073-ce18f0c1e387",
   "metadata": {},
   "source": [
    "# Efficeint Frontier Part 2"
   ]
  },
  {
   "cell_type": "code",
   "execution_count": 1,
   "id": "a240186f-03a7-4717-a1af-e4631c257722",
   "metadata": {},
   "outputs": [],
   "source": [
    "import pandas as pd\n",
    "import numpy as np\n",
    "import edhec_risk_kit as erk\n",
    "\n",
    "%load_ext autoreload\n",
    "%autoreload 2"
   ]
  },
  {
   "cell_type": "code",
   "execution_count": 68,
   "id": "5be92124-5a3a-4183-8d0b-27b12da9ba54",
   "metadata": {},
   "outputs": [],
   "source": [
    "ind = pd.read_csv('ind30_m_ew_rets.csv', parse_dates = True, na_values = -99.99, index_col = 0)/100"
   ]
  },
  {
   "cell_type": "code",
   "execution_count": 69,
   "id": "c7540115-58a6-451d-a3c5-34c0d3fb76ed",
   "metadata": {},
   "outputs": [],
   "source": [
    "ind.index = pd.to_datetime(ind.index, format = '%Y%m').to_period('M')"
   ]
  },
  {
   "cell_type": "code",
   "execution_count": 70,
   "id": "2ccd2101-4056-4bdc-9dcd-4ea5bac7c9d1",
   "metadata": {},
   "outputs": [
    {
     "data": {
      "text/plain": [
       "Index(['Food', 'Beer', 'Smoke', 'Games', 'Books', 'Hshld', 'Clths', 'Hlth',\n",
       "       'Chems', 'Txtls', 'Cnstr', 'Steel', 'FabPr', 'ElcEq', 'Autos', 'Carry',\n",
       "       'Mines', 'Coal', 'Oil', 'Util', 'Telcm', 'Servs', 'BusEq', 'Paper',\n",
       "       'Trans', 'Whlsl', 'Rtail', 'Meals', 'Fin', 'Other'],\n",
       "      dtype='object')"
      ]
     },
     "execution_count": 70,
     "metadata": {},
     "output_type": "execute_result"
    }
   ],
   "source": [
    "ind.columns = [column.replace(' ','') for column in ind.columns]\n",
    "ind.columns"
   ]
  },
  {
   "cell_type": "code",
   "execution_count": 117,
   "id": "54bec7ce-f501-48e6-8060-7fa48a0585ac",
   "metadata": {},
   "outputs": [],
   "source": [
    "l = ['Games', 'Fin']"
   ]
  },
  {
   "cell_type": "code",
   "execution_count": 118,
   "id": "cfd8782b-c984-41cc-8edf-4ab79f1ba915",
   "metadata": {},
   "outputs": [],
   "source": [
    "portfolioA = ind['1996':'2000'][l] \n",
    "er = erk.annualized_return(portfolioA)\n",
    "cov = portfolioA.cov()"
   ]
  },
  {
   "cell_type": "code",
   "execution_count": 119,
   "id": "e1d32a14-273b-4a03-bda3-2fc18127838e",
   "metadata": {},
   "outputs": [
    {
     "data": {
      "text/html": [
       "<div>\n",
       "<style scoped>\n",
       "    .dataframe tbody tr th:only-of-type {\n",
       "        vertical-align: middle;\n",
       "    }\n",
       "\n",
       "    .dataframe tbody tr th {\n",
       "        vertical-align: top;\n",
       "    }\n",
       "\n",
       "    .dataframe thead th {\n",
       "        text-align: right;\n",
       "    }\n",
       "</style>\n",
       "<table border=\"1\" class=\"dataframe\">\n",
       "  <thead>\n",
       "    <tr style=\"text-align: right;\">\n",
       "      <th></th>\n",
       "      <th>Games</th>\n",
       "      <th>Fin</th>\n",
       "    </tr>\n",
       "  </thead>\n",
       "  <tbody>\n",
       "    <tr>\n",
       "      <th>Games</th>\n",
       "      <td>0.004974</td>\n",
       "      <td>0.001502</td>\n",
       "    </tr>\n",
       "    <tr>\n",
       "      <th>Fin</th>\n",
       "      <td>0.001502</td>\n",
       "      <td>0.001440</td>\n",
       "    </tr>\n",
       "  </tbody>\n",
       "</table>\n",
       "</div>"
      ],
      "text/plain": [
       "          Games       Fin\n",
       "Games  0.004974  0.001502\n",
       "Fin    0.001502  0.001440"
      ]
     },
     "execution_count": 119,
     "metadata": {},
     "output_type": "execute_result"
    }
   ],
   "source": [
    "er\n",
    "cov"
   ]
  },
  {
   "cell_type": "code",
   "execution_count": 120,
   "id": "b5d9b5e5-ba67-4959-9026-078bdcfea5fb",
   "metadata": {},
   "outputs": [
    {
     "data": {
      "text/plain": [
       "[array([1., 0.]),\n",
       " array([0.94736842, 0.05263158]),\n",
       " array([0.89473684, 0.10526316]),\n",
       " array([0.84210526, 0.15789474]),\n",
       " array([0.78947368, 0.21052632]),\n",
       " array([0.73684211, 0.26315789]),\n",
       " array([0.68421053, 0.31578947]),\n",
       " array([0.63157895, 0.36842105]),\n",
       " array([0.57894737, 0.42105263]),\n",
       " array([0.52631579, 0.47368421]),\n",
       " array([0.47368421, 0.52631579]),\n",
       " array([0.42105263, 0.57894737]),\n",
       " array([0.36842105, 0.63157895]),\n",
       " array([0.31578947, 0.68421053]),\n",
       " array([0.26315789, 0.73684211]),\n",
       " array([0.21052632, 0.78947368]),\n",
       " array([0.15789474, 0.84210526]),\n",
       " array([0.10526316, 0.89473684]),\n",
       " array([0.05263158, 0.94736842]),\n",
       " array([0., 1.])]"
      ]
     },
     "execution_count": 120,
     "metadata": {},
     "output_type": "execute_result"
    }
   ],
   "source": [
    "n_points = 20\n",
    "weights = [np.array([w, 1- w]) for w in np.linspace(1,0,n_points)]\n",
    "weights"
   ]
  },
  {
   "cell_type": "code",
   "execution_count": 121,
   "id": "d5e4f876-71ee-4264-889a-7ea9e1b32a47",
   "metadata": {},
   "outputs": [],
   "source": [
    "rets = [erk.portfolio_returns(w,er) for w in weights]\n",
    "vol = [erk.portfolio_volitility(w,cov)for w in weights]"
   ]
  },
  {
   "cell_type": "code",
   "execution_count": 122,
   "id": "d537a8c2-fafe-425a-82f3-9a67d3134a56",
   "metadata": {},
   "outputs": [
    {
     "data": {
      "text/plain": [
       "<AxesSubplot:xlabel='Risk', ylabel='Return'>"
      ]
     },
     "execution_count": 122,
     "metadata": {},
     "output_type": "execute_result"
    },
    {
     "data": {
      "image/png": "[encoded data removed]",
      "text/plain": [
       "<Figure size 432x288 with 1 Axes>"
      ]
     },
     "metadata": {
      "needs_background": "light"
     },
     "output_type": "display_data"
    }
   ],
   "source": [
    "ef = pd.DataFrame({'Return':rets, 'Risk':vol})\n",
    "ef.plot.scatter(x = 'Risk', y = 'Return')"
   ]
  },
  {
   "cell_type": "code",
   "execution_count": 109,
   "id": "d1749a8a-57b1-4830-bd57-3dade8995964",
   "metadata": {},
   "outputs": [
    {
     "data": {
      "text/html": [
       "<div>\n",
       "<style scoped>\n",
       "    .dataframe tbody tr th:only-of-type {\n",
       "        vertical-align: middle;\n",
       "    }\n",
       "\n",
       "    .dataframe tbody tr th {\n",
       "        vertical-align: top;\n",
       "    }\n",
       "\n",
       "    .dataframe thead th {\n",
       "        text-align: right;\n",
       "    }\n",
       "</style>\n",
       "<table border=\"1\" class=\"dataframe\">\n",
       "  <thead>\n",
       "    <tr style=\"text-align: right;\">\n",
       "      <th></th>\n",
       "      <th>Return</th>\n",
       "      <th>Risk</th>\n",
       "    </tr>\n",
       "  </thead>\n",
       "  <tbody>\n",
       "    <tr>\n",
       "      <th>0</th>\n",
       "      <td>-0.042421</td>\n",
       "      <td>0.004974</td>\n",
       "    </tr>\n",
       "    <tr>\n",
       "      <th>1</th>\n",
       "      <td>-0.032616</td>\n",
       "      <td>0.004618</td>\n",
       "    </tr>\n",
       "    <tr>\n",
       "      <th>2</th>\n",
       "      <td>-0.022811</td>\n",
       "      <td>0.004281</td>\n",
       "    </tr>\n",
       "    <tr>\n",
       "      <th>3</th>\n",
       "      <td>-0.013006</td>\n",
       "      <td>0.003963</td>\n",
       "    </tr>\n",
       "    <tr>\n",
       "      <th>4</th>\n",
       "      <td>-0.003201</td>\n",
       "      <td>0.003663</td>\n",
       "    </tr>\n",
       "    <tr>\n",
       "      <th>5</th>\n",
       "      <td>0.006604</td>\n",
       "      <td>0.003383</td>\n",
       "    </tr>\n",
       "    <tr>\n",
       "      <th>6</th>\n",
       "      <td>0.016409</td>\n",
       "      <td>0.003121</td>\n",
       "    </tr>\n",
       "    <tr>\n",
       "      <th>7</th>\n",
       "      <td>0.026215</td>\n",
       "      <td>0.002879</td>\n",
       "    </tr>\n",
       "    <tr>\n",
       "      <th>8</th>\n",
       "      <td>0.036020</td>\n",
       "      <td>0.002655</td>\n",
       "    </tr>\n",
       "    <tr>\n",
       "      <th>9</th>\n",
       "      <td>0.045825</td>\n",
       "      <td>0.002450</td>\n",
       "    </tr>\n",
       "    <tr>\n",
       "      <th>10</th>\n",
       "      <td>0.055630</td>\n",
       "      <td>0.002264</td>\n",
       "    </tr>\n",
       "    <tr>\n",
       "      <th>11</th>\n",
       "      <td>0.065435</td>\n",
       "      <td>0.002097</td>\n",
       "    </tr>\n",
       "    <tr>\n",
       "      <th>12</th>\n",
       "      <td>0.075240</td>\n",
       "      <td>0.001949</td>\n",
       "    </tr>\n",
       "    <tr>\n",
       "      <th>13</th>\n",
       "      <td>0.085045</td>\n",
       "      <td>0.001819</td>\n",
       "    </tr>\n",
       "    <tr>\n",
       "      <th>14</th>\n",
       "      <td>0.094850</td>\n",
       "      <td>0.001709</td>\n",
       "    </tr>\n",
       "    <tr>\n",
       "      <th>15</th>\n",
       "      <td>0.104656</td>\n",
       "      <td>0.001617</td>\n",
       "    </tr>\n",
       "    <tr>\n",
       "      <th>16</th>\n",
       "      <td>0.114461</td>\n",
       "      <td>0.001544</td>\n",
       "    </tr>\n",
       "    <tr>\n",
       "      <th>17</th>\n",
       "      <td>0.124266</td>\n",
       "      <td>0.001491</td>\n",
       "    </tr>\n",
       "    <tr>\n",
       "      <th>18</th>\n",
       "      <td>0.134071</td>\n",
       "      <td>0.001456</td>\n",
       "    </tr>\n",
       "    <tr>\n",
       "      <th>19</th>\n",
       "      <td>0.143876</td>\n",
       "      <td>0.001440</td>\n",
       "    </tr>\n",
       "  </tbody>\n",
       "</table>\n",
       "</div>"
      ],
      "text/plain": [
       "      Return      Risk\n",
       "0  -0.042421  0.004974\n",
       "1  -0.032616  0.004618\n",
       "2  -0.022811  0.004281\n",
       "3  -0.013006  0.003963\n",
       "4  -0.003201  0.003663\n",
       "5   0.006604  0.003383\n",
       "6   0.016409  0.003121\n",
       "7   0.026215  0.002879\n",
       "8   0.036020  0.002655\n",
       "9   0.045825  0.002450\n",
       "10  0.055630  0.002264\n",
       "11  0.065435  0.002097\n",
       "12  0.075240  0.001949\n",
       "13  0.085045  0.001819\n",
       "14  0.094850  0.001709\n",
       "15  0.104656  0.001617\n",
       "16  0.114461  0.001544\n",
       "17  0.124266  0.001491\n",
       "18  0.134071  0.001456\n",
       "19  0.143876  0.001440"
      ]
     },
     "execution_count": 109,
     "metadata": {},
     "output_type": "execute_result"
    }
   ],
   "source": [
    "ef"
   ]
  },
  {
   "cell_type": "code",
   "execution_count": null,
   "id": "c01481dc-77d2-421b-9665-3c5ffb7324f9",
   "metadata": {},
   "outputs": [],
   "source": []
  }
 ],
 "metadata": {
  "kernelspec": {
   "display_name": "Python 3 (ipykernel)",
   "language": "python",
   "name": "python3"
  },
  "language_info": {
   "codemirror_mode": {
    "name": "ipython",
    "version": 3
   },
   "file_extension": ".py",
   "mimetype": "text/x-python",
   "name": "python",
   "nbconvert_exporter": "python",
   "pygments_lexer": "ipython3",
   "version": "3.9.7"
  }
 },
 "nbformat": 4,
 "nbformat_minor": 5
}
